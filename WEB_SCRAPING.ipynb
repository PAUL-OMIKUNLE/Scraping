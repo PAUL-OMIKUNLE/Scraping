{
 "cells": [
  {
   "cell_type": "markdown",
   "metadata": {},
   "source": [
    "## Web Scraping: Building a pipeline \n"
   ]
  },
  {
   "cell_type": "markdown",
   "metadata": {},
   "source": [
    "### import dependencies"
   ]
  },
  {
   "cell_type": "code",
   "execution_count": 1,
   "metadata": {},
   "outputs": [],
   "source": [
    "import requests\n",
    "from bs4 import BeautifulSoup as bs"
   ]
  },
  {
   "cell_type": "code",
   "execution_count": 2,
   "metadata": {},
   "outputs": [],
   "source": [
    "url = \"https://www.indeed.com/jobs?q=python&l=new+york&start=\""
   ]
  },
  {
   "cell_type": "markdown",
   "metadata": {},
   "source": [
    "Scraping the first 100 available search results¶"
   ]
  },
  {
   "cell_type": "code",
   "execution_count": 3,
   "metadata": {},
   "outputs": [
    {
     "name": "stdout",
     "output_type": "stream",
     "text": [
      "['Content Contributor : iOS Development', 'Penetration Testing Trainee (Remote USA)', 'Junior Python Developer', 'Java / Python Tutors', 'Winter/Spring 2021 Internship, Analytics', 'Data Python Developer', 'Software Engineering Internship, Summer 2021', 'Digital Archives Assistant', 'Senior Level Python Developer', 'Early Careers | Financial Modeling & Research | New York', 'Junior Front End / Full Stack Software Engineer', 'Python Developer', 'Software Engineer - Python', 'Data Technician (Full- or Part-Time)', 'Software Engineers & Web Developers']\n",
      "['Data Analytics Intern', 'Valuation and Risk Analytics Associate, triCalculate', 'VP, Operations Strategy - RT', 'Junior Data Scientist – Performance Analytics', 'Senior Django/Python Developer', 'Data Scientist', 'Students - Equity Trading Desk Internship Summer 2019', 'Java/Python/C# Software Engineer', 'Full Stack Software Engineer (PHP/Python)- Watertown, MA or...', 'Counterintelligence Analyst', 'Global Trading Technology Development Intern | Summer 2021', 'Full Stack Programmer', 'Software Engineer (Python)', 'CPD Intern', 'Portfolio Analyst']\n",
      "['Data Analytics Intern', 'Valuation and Risk Analytics Associate, triCalculate', 'VP, Operations Strategy - RT', 'Junior Data Scientist – Performance Analytics', 'Senior Django/Python Developer', 'Data Scientist', 'Students - Equity Trading Desk Internship Summer 2019', 'Java/Python/C# Software Engineer', 'Full Stack Software Engineer (PHP/Python)- Watertown, MA or...', 'Counterintelligence Analyst', 'Global Trading Technology Development Intern | Summer 2021', 'Full Stack Programmer', 'Software Engineer (Python)', 'CPD Intern', 'Portfolio Analyst']\n",
      "['Data Analytics Intern', 'Valuation and Risk Analytics Associate, triCalculate', 'VP, Operations Strategy - RT', 'Junior Data Scientist – Performance Analytics', 'Senior Django/Python Developer', 'Data Scientist', 'Students - Equity Trading Desk Internship Summer 2019', 'Java/Python/C# Software Engineer', 'Full Stack Software Engineer (PHP/Python)- Watertown, MA or...', 'Counterintelligence Analyst', 'Global Trading Technology Development Intern | Summer 2021', 'Full Stack Programmer', 'Software Engineer (Python)', 'CPD Intern', 'Portfolio Analyst']\n",
      "['Data Analytics Intern', 'Valuation and Risk Analytics Associate, triCalculate', 'VP, Operations Strategy - RT', 'Junior Data Scientist – Performance Analytics', 'Senior Django/Python Developer', 'Data Scientist', 'Students - Equity Trading Desk Internship Summer 2019', 'Java/Python/C# Software Engineer', 'Full Stack Software Engineer (PHP/Python)- Watertown, MA or...', 'Counterintelligence Analyst', 'Global Trading Technology Development Intern | Summer 2021', 'Full Stack Programmer', 'Software Engineer (Python)', 'CPD Intern', 'Portfolio Analyst']\n",
      "['Data Analytics Intern', 'Valuation and Risk Analytics Associate, triCalculate', 'VP, Operations Strategy - RT', 'Junior Data Scientist – Performance Analytics', 'Senior Django/Python Developer', 'Data Scientist', 'Students - Equity Trading Desk Internship Summer 2019', 'Java/Python/C# Software Engineer', 'Full Stack Software Engineer (PHP/Python)- Watertown, MA or...', 'Counterintelligence Analyst', 'Global Trading Technology Development Intern | Summer 2021', 'Full Stack Programmer', 'Software Engineer (Python)', 'CPD Intern', 'Portfolio Analyst']\n",
      "['Data Analytics Intern', 'Valuation and Risk Analytics Associate, triCalculate', 'VP, Operations Strategy - RT', 'Junior Data Scientist – Performance Analytics', 'Senior Django/Python Developer', 'Data Scientist', 'Students - Equity Trading Desk Internship Summer 2019', 'Java/Python/C# Software Engineer', 'Full Stack Software Engineer (PHP/Python)- Watertown, MA or...', 'Counterintelligence Analyst', 'Global Trading Technology Development Intern | Summer 2021', 'Full Stack Programmer', 'Software Engineer (Python)', 'CPD Intern', 'Portfolio Analyst']\n"
     ]
    }
   ],
   "source": [
    "for start in range(0, 7):\n",
    "    response = requests.get(url + str(start))\n",
    "    soup = bs(response.content)\n",
    "    results = soup.find(id='resultsCol')\n",
    "    jobs = results.find_all('div', class_='result')\n",
    "    jobs = results.find_all('div', class_='row')\n",
    "    job_titles = [job.find('h2').find('a').text.strip() for job in jobs]\n",
    "    print(job_titles)"
   ]
  },
  {
   "cell_type": "code",
   "execution_count": 4,
   "metadata": {},
   "outputs": [
    {
     "data": {
      "text/plain": [
       "list"
      ]
     },
     "execution_count": 4,
     "metadata": {},
     "output_type": "execute_result"
    }
   ],
   "source": [
    "type(job_titles)"
   ]
  },
  {
   "cell_type": "code",
   "execution_count": 5,
   "metadata": {},
   "outputs": [],
   "source": [
    "from pandas import DataFrame"
   ]
  },
  {
   "cell_type": "code",
   "execution_count": 7,
   "metadata": {},
   "outputs": [],
   "source": [
    "data_scrape = DataFrame(job_titles, columns=['job_titles'])"
   ]
  },
  {
   "cell_type": "code",
   "execution_count": 8,
   "metadata": {},
   "outputs": [
    {
     "data": {
      "text/html": [
       "<div>\n",
       "<style scoped>\n",
       "    .dataframe tbody tr th:only-of-type {\n",
       "        vertical-align: middle;\n",
       "    }\n",
       "\n",
       "    .dataframe tbody tr th {\n",
       "        vertical-align: top;\n",
       "    }\n",
       "\n",
       "    .dataframe thead th {\n",
       "        text-align: right;\n",
       "    }\n",
       "</style>\n",
       "<table border=\"1\" class=\"dataframe\">\n",
       "  <thead>\n",
       "    <tr style=\"text-align: right;\">\n",
       "      <th></th>\n",
       "      <th>job_titles</th>\n",
       "    </tr>\n",
       "  </thead>\n",
       "  <tbody>\n",
       "    <tr>\n",
       "      <th>0</th>\n",
       "      <td>Data Analytics Intern</td>\n",
       "    </tr>\n",
       "    <tr>\n",
       "      <th>1</th>\n",
       "      <td>Valuation and Risk Analytics Associate, triCal...</td>\n",
       "    </tr>\n",
       "    <tr>\n",
       "      <th>2</th>\n",
       "      <td>VP, Operations Strategy - RT</td>\n",
       "    </tr>\n",
       "    <tr>\n",
       "      <th>3</th>\n",
       "      <td>Junior Data Scientist – Performance Analytics</td>\n",
       "    </tr>\n",
       "    <tr>\n",
       "      <th>4</th>\n",
       "      <td>Senior Django/Python Developer</td>\n",
       "    </tr>\n",
       "  </tbody>\n",
       "</table>\n",
       "</div>"
      ],
      "text/plain": [
       "                                          job_titles\n",
       "0                              Data Analytics Intern\n",
       "1  Valuation and Risk Analytics Associate, triCal...\n",
       "2                       VP, Operations Strategy - RT\n",
       "3      Junior Data Scientist – Performance Analytics\n",
       "4                     Senior Django/Python Developer"
      ]
     },
     "execution_count": 8,
     "metadata": {},
     "output_type": "execute_result"
    }
   ],
   "source": [
    "data_scrape.head()"
   ]
  },
  {
   "cell_type": "markdown",
   "metadata": {},
   "source": [
    "SAVE AS A FILE (CSV)"
   ]
  },
  {
   "cell_type": "code",
   "execution_count": 11,
   "metadata": {},
   "outputs": [],
   "source": [
    "df.to_csv('scraped_job_titles.csv')"
   ]
  },
  {
   "cell_type": "code",
   "execution_count": null,
   "metadata": {},
   "outputs": [],
   "source": []
  }
 ],
 "metadata": {
  "kernelspec": {
   "display_name": "Python 3",
   "language": "python",
   "name": "python3"
  },
  "language_info": {
   "codemirror_mode": {
    "name": "ipython",
    "version": 3
   },
   "file_extension": ".py",
   "mimetype": "text/x-python",
   "name": "python",
   "nbconvert_exporter": "python",
   "pygments_lexer": "ipython3",
   "version": "3.8.3"
  }
 },
 "nbformat": 4,
 "nbformat_minor": 4
}
